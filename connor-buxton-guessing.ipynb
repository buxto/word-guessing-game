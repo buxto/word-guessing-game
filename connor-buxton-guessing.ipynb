{
 "cells": [
  {
   "cell_type": "markdown",
   "id": "dc48a988",
   "metadata": {},
   "source": [
    "# Word Guessing Game\n",
    "***Connor Buxton Word Guessing Game***\n",
    "- The program will pick a word\n",
    "- You can guess a letter or word\n",
    "- If it's wrong, you lose a guess\n",
    "- Lose all your guesses and it's game over; guess the word and you win"
   ]
  },
  {
   "cell_type": "markdown",
   "id": "dd76773b",
   "metadata": {},
   "source": [
    "Word picking section - will be updated later"
   ]
  },
  {
   "cell_type": "code",
   "execution_count": 54,
   "id": "016d105b",
   "metadata": {},
   "outputs": [
    {
     "name": "stdout",
     "output_type": "stream",
     "text": [
      "['_', '_', '_', '_', '_', '_', '_', '_', '_', '_']\n"
     ]
    }
   ],
   "source": [
    "picked_word = 'applesauce'\n",
    "guess_this_word = picked_word.lower()\n",
    "mystery_word = '_ '*len(guess_this_word)\n",
    "mystery_word = mystery_word.strip()\n",
    "mystery_list = mystery_word.split()\n",
    "print(mystery_list)"
   ]
  },
  {
   "cell_type": "markdown",
   "id": "26fabeb6",
   "metadata": {},
   "source": [
    "I will define a checking function so that we can reuse it throughout the loop"
   ]
  },
  {
   "cell_type": "code",
   "execution_count": 55,
   "id": "4a07a0c7",
   "metadata": {},
   "outputs": [],
   "source": [
    "def checkGuess(userGuess, numGuesses, correctGuesses, mystery_list):\n",
    "    word_status = False\n",
    "    # First check if input is letter or word:\n",
    "    if len(userGuess) == 1:\n",
    "        # It's a letter\n",
    "        # Does the guess match any letter in the word?\n",
    "        if userGuess.lower() in guess_this_word:\n",
    "            print('You got a letter right!')\n",
    "            correctGuesses = correctGuesses + guess_this_word.count(userGuess)\n",
    "            mystery_list = replaceBlanks(userGuess, mystery_list)\n",
    "            # Will add stuff to replace the blanks with the letter\n",
    "        else:\n",
    "            print('Sorry, that letter isn\\'t in there.')\n",
    "            numGuesses = numGuesses - 1\n",
    "    else:\n",
    "        # It's a word... potentially. might need to add error checking\n",
    "        if userGuess.lower() == guess_this_word:\n",
    "            print('You got the word right! You win!')\n",
    "            correctGuesses = len(guess_this_word)\n",
    "            mystery_word = userGuess\n",
    "            # to add: a gameStatus variable which is true when you win, will break loop\n",
    "        else:\n",
    "            print('Sorry, that word isn\\'t correct.')\n",
    "            numGuesses = numGuesses - 1\n",
    "            \n",
    "    return numGuesses, correctGuesses, mystery_list"
   ]
  },
  {
   "cell_type": "code",
   "execution_count": 56,
   "id": "1c6478c3",
   "metadata": {},
   "outputs": [],
   "source": [
    "def replaceBlanks(userGuess, mystery_list):\n",
    "    letter_in_word = True\n",
    "    starting_position = 0\n",
    "    while letter_in_word:\n",
    "        letterIndex = guess_this_word.find(userGuess, starting_position)\n",
    "        if letterIndex > -1:\n",
    "            mystery_list[letterIndex] = userGuess.lower()\n",
    "            starting_position = letterIndex+1\n",
    "        else:\n",
    "            letter_in_word = False\n",
    "    \n",
    "    return mystery_list"
   ]
  },
  {
   "cell_type": "markdown",
   "id": "715d9758",
   "metadata": {},
   "source": [
    "Down below, we will have the main loop:"
   ]
  },
  {
   "cell_type": "code",
   "execution_count": 57,
   "id": "e8da3d5c",
   "metadata": {},
   "outputs": [
    {
     "name": "stdout",
     "output_type": "stream",
     "text": [
      "['_', '_', '_', '_', '_', '_', '_', '_', '_', '_']\n",
      "Enter guess: a\n",
      "You got a letter right!\n",
      "['a', '_', '_', '_', '_', '_', 'a', '_', '_', '_']\n",
      "Enter guess: p\n",
      "You got a letter right!\n",
      "['a', 'p', 'p', '_', '_', '_', 'a', '_', '_', '_']\n",
      "Enter guess: l\n",
      "You got a letter right!\n",
      "['a', 'p', 'p', 'l', '_', '_', 'a', '_', '_', '_']\n",
      "Enter guess: e\n",
      "You got a letter right!\n",
      "['a', 'p', 'p', 'l', 'e', '_', 'a', '_', '_', 'e']\n",
      "Enter guess: s\n",
      "You got a letter right!\n",
      "['a', 'p', 'p', 'l', 'e', 's', 'a', '_', '_', 'e']\n",
      "Enter guess: u\n",
      "You got a letter right!\n",
      "['a', 'p', 'p', 'l', 'e', 's', 'a', 'u', '_', 'e']\n",
      "Enter guess: c\n",
      "You got a letter right!\n",
      "Good work! Would you like to play again?\n"
     ]
    }
   ],
   "source": [
    "gameStatus = False\n",
    "numGuesses = 7\n",
    "correctGuesses = 0\n",
    "inputHistory = []\n",
    "while not gameStatus and numGuesses > 0:\n",
    "    print(mystery_list)\n",
    "    userInput = input('Enter guess: ')\n",
    "    \n",
    "    if userInput.lower() in inputHistory:\n",
    "        print(\"You have already guessed this word or letter.\")\n",
    "    else:\n",
    "        inputHistory.append(userInput.lower())\n",
    "        numGuesses, correctGuesses, mystery_list = checkGuess(userInput, numGuesses, correctGuesses, mystery_list)\n",
    "\n",
    "    if correctGuesses == len(guess_this_word):\n",
    "        gameStatus = True\n",
    "        \n",
    "    \n",
    "if gameStatus:\n",
    "    print('Good work! Would you like to play again?')\n",
    "else:\n",
    "    print('Game over. Would you like to play again?')"
   ]
  },
  {
   "cell_type": "code",
   "execution_count": 51,
   "id": "25e3bde6",
   "metadata": {},
   "outputs": [
    {
     "ename": "ValueError",
     "evalue": "empty separator",
     "output_type": "error",
     "traceback": [
      "\u001b[1;31m---------------------------------------------------------------------------\u001b[0m",
      "\u001b[1;31mValueError\u001b[0m                                Traceback (most recent call last)",
      "\u001b[1;32m~\\AppData\\Local\\Temp/ipykernel_4524/3154928884.py\u001b[0m in \u001b[0;36m<module>\u001b[1;34m\u001b[0m\n\u001b[0;32m      1\u001b[0m \u001b[0mstring\u001b[0m \u001b[1;33m=\u001b[0m \u001b[1;34m'banana'\u001b[0m\u001b[1;33m\u001b[0m\u001b[1;33m\u001b[0m\u001b[0m\n\u001b[1;32m----> 2\u001b[1;33m \u001b[0mlist_str\u001b[0m \u001b[1;33m=\u001b[0m \u001b[0mstring\u001b[0m\u001b[1;33m.\u001b[0m\u001b[0msplit\u001b[0m\u001b[1;33m(\u001b[0m\u001b[1;34m''\u001b[0m\u001b[1;33m)\u001b[0m\u001b[1;33m\u001b[0m\u001b[1;33m\u001b[0m\u001b[0m\n\u001b[0m\u001b[0;32m      3\u001b[0m \u001b[0mprint\u001b[0m\u001b[1;33m(\u001b[0m\u001b[0mlist_str\u001b[0m\u001b[1;33m)\u001b[0m\u001b[1;33m\u001b[0m\u001b[1;33m\u001b[0m\u001b[0m\n",
      "\u001b[1;31mValueError\u001b[0m: empty separator"
     ]
    }
   ],
   "source": [
    "string = 'banana'\n"
   ]
  },
  {
   "cell_type": "code",
   "execution_count": null,
   "id": "92549292",
   "metadata": {},
   "outputs": [],
   "source": []
  }
 ],
 "metadata": {
  "kernelspec": {
   "display_name": "Python 3 (ipykernel)",
   "language": "python",
   "name": "python3"
  },
  "language_info": {
   "codemirror_mode": {
    "name": "ipython",
    "version": 3
   },
   "file_extension": ".py",
   "mimetype": "text/x-python",
   "name": "python",
   "nbconvert_exporter": "python",
   "pygments_lexer": "ipython3",
   "version": "3.9.7"
  }
 },
 "nbformat": 4,
 "nbformat_minor": 5
}
